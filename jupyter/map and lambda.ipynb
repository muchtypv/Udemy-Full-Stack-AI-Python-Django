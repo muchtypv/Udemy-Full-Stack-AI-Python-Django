{
 "cells": [
  {
   "cell_type": "code",
   "execution_count": 3,
   "id": "561b1ac6",
   "metadata": {},
   "outputs": [
    {
     "name": "stdout",
     "output_type": "stream",
     "text": [
      "[0.2, 2.0, 20.0, 40.0]\n"
     ]
    }
   ],
   "source": [
    "list_of_nums = [1,10,100,200]\n",
    "\n",
    "def div5(x):\n",
    "    return x/5\n",
    "\n",
    "div5_list = list(map(div5, list_of_nums))\n",
    "\n",
    "print(div5_list)"
   ]
  },
  {
   "cell_type": "code",
   "execution_count": 5,
   "id": "e97c184d",
   "metadata": {},
   "outputs": [
    {
     "name": "stdout",
     "output_type": "stream",
     "text": [
      "[0.5, 5.0, 50.0, 100.0]\n"
     ]
    }
   ],
   "source": [
    "# with lambda\n",
    "\n",
    "div2_list = list(map(lambda x: x/2, list_of_nums))\n",
    "print(div2_list)"
   ]
  },
  {
   "cell_type": "code",
   "execution_count": 6,
   "id": "7cdc0dfc",
   "metadata": {},
   "outputs": [
    {
     "name": "stdout",
     "output_type": "stream",
     "text": [
      "[11, 32, 53, 74, 95]\n"
     ]
    }
   ],
   "source": [
    "# map and lambda with two lists\n",
    "list1 = [1,2,3,4,5]\n",
    "list2 = [10,30,50,70,90]\n",
    "list3 = list(map(lambda x,y: x+y, list1, list2))\n",
    "print(list3)"
   ]
  }
 ],
 "metadata": {
  "kernelspec": {
   "display_name": "Python 3",
   "language": "python",
   "name": "python3"
  },
  "language_info": {
   "codemirror_mode": {
    "name": "ipython",
    "version": 3
   },
   "file_extension": ".py",
   "mimetype": "text/x-python",
   "name": "python",
   "nbconvert_exporter": "python",
   "pygments_lexer": "ipython3",
   "version": "3.8.5"
  }
 },
 "nbformat": 4,
 "nbformat_minor": 5
}
