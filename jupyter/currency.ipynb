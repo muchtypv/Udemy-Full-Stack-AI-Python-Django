{
 "cells": [
  {
   "cell_type": "code",
   "execution_count": 45,
   "id": "587868f6",
   "metadata": {},
   "outputs": [
    {
     "name": "stdout",
     "output_type": "stream",
     "text": [
      "How many pounds do you have?26435\n",
      "What currency would you like?USD\n",
      "26435 pounds will buy you 36464.43 USD\n"
     ]
    }
   ],
   "source": [
    "import requests\n",
    "\n",
    "apikey = '8cbfeb5345581ad50a8b8321'\n",
    "url = 'https://v6.exchangerate-api.com/v6/' + apikey + '/latest/GBP'\n",
    "response = requests.get(url)\n",
    "\n",
    "rates = response.json()[\"conversion_rates\"]\n",
    "\n",
    "pounds = input(\"How many pounds do you have?\")\n",
    "currency = input(\"What currency would you like?\")\n",
    "\n",
    "amount = round(float(pounds) * rates[currency] - .005, 2)\n",
    "print('{} pounds will buy you {} {}'.format(pounds, amount, currency))"
   ]
  }
 ],
 "metadata": {
  "kernelspec": {
   "display_name": "Python 3",
   "language": "python",
   "name": "python3"
  },
  "language_info": {
   "codemirror_mode": {
    "name": "ipython",
    "version": 3
   },
   "file_extension": ".py",
   "mimetype": "text/x-python",
   "name": "python",
   "nbconvert_exporter": "python",
   "pygments_lexer": "ipython3",
   "version": "3.8.5"
  }
 },
 "nbformat": 4,
 "nbformat_minor": 5
}
