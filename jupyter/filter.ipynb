{
 "cells": [
  {
   "cell_type": "code",
   "execution_count": 1,
   "id": "2b702a46",
   "metadata": {},
   "outputs": [
    {
     "name": "stdout",
     "output_type": "stream",
     "text": [
      "True\n",
      "False\n"
     ]
    }
   ],
   "source": [
    "less_than_50 = lambda x: x>=50\n",
    "print(less_than_50(51))\n",
    "print(less_than_50(10))"
   ]
  },
  {
   "cell_type": "code",
   "execution_count": 2,
   "id": "51179609",
   "metadata": {},
   "outputs": [
    {
     "name": "stdout",
     "output_type": "stream",
     "text": [
      "[67, 857, 72]\n"
     ]
    }
   ],
   "source": [
    "my_list = [1,43,67,38,857,72,5]\n",
    "filtered_list = list(filter(lambda x: x>=50, my_list))\n",
    "print(filtered_list)"
   ]
  },
  {
   "cell_type": "code",
   "execution_count": 3,
   "id": "34ae4612",
   "metadata": {},
   "outputs": [
    {
     "name": "stdout",
     "output_type": "stream",
     "text": [
      "['Joe', 'john']\n"
     ]
    }
   ],
   "source": [
    "names = ['Peter', 'Joe', 'john', 'Helen', ]\n",
    "short_names = list(filter(lambda x: len(x)<5, names))\n",
    "print(short_names)"
   ]
  }
 ],
 "metadata": {
  "kernelspec": {
   "display_name": "Python 3",
   "language": "python",
   "name": "python3"
  },
  "language_info": {
   "codemirror_mode": {
    "name": "ipython",
    "version": 3
   },
   "file_extension": ".py",
   "mimetype": "text/x-python",
   "name": "python",
   "nbconvert_exporter": "python",
   "pygments_lexer": "ipython3",
   "version": "3.8.5"
  }
 },
 "nbformat": 4,
 "nbformat_minor": 5
}
