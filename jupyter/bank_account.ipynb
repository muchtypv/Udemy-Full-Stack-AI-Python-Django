{
 "cells": [
  {
   "cell_type": "code",
   "execution_count": 26,
   "id": "718f9f87",
   "metadata": {},
   "outputs": [],
   "source": [
    "class BankAccount:\n",
    "    def __init__(self, name, initial_deposit):\n",
    "        self.name = name\n",
    "        self.balance = initial_deposit\n",
    "         \n",
    "    def deposit(self, amount):\n",
    "        self.balance += amount\n",
    "        \n",
    "    def withdraw(self, amount):\n",
    "        self.balance -= amount\n",
    "        \n",
    "    def check_balance(self):\n",
    "        print(\"Hi {}.  Your balance is £{}\".format(self.name, self.balance))\n",
    "        \n",
    "    def pay_friend(self, friend, amount):\n",
    "        self.withdraw(amount)\n",
    "        friend.deposit(amount)"
   ]
  },
  {
   "cell_type": "code",
   "execution_count": 27,
   "id": "e89695e5",
   "metadata": {},
   "outputs": [
    {
     "name": "stdout",
     "output_type": "stream",
     "text": [
      "Hi Peter.  Your balance is £1420\n"
     ]
    }
   ],
   "source": [
    "my_account = BankAccount(\"Peter\", 1500)\n",
    "my_account.deposit(20)\n",
    "my_account.withdraw(100)\n",
    "my_account.check_balance()"
   ]
  },
  {
   "cell_type": "code",
   "execution_count": 28,
   "id": "3c5644ad",
   "metadata": {},
   "outputs": [],
   "source": [
    "naomi = BankAccount(\"Naomi\", 200)"
   ]
  },
  {
   "cell_type": "code",
   "execution_count": 29,
   "id": "aaf74cec",
   "metadata": {
    "scrolled": true
   },
   "outputs": [
    {
     "name": "stdout",
     "output_type": "stream",
     "text": [
      "Hi Peter.  Your balance is £1270\n",
      "Hi Naomi.  Your balance is £350\n"
     ]
    }
   ],
   "source": [
    "my_account.pay_friend(naomi, 150)\n",
    "my_account.check_balance()\n",
    "naomi.check_balance()"
   ]
  },
  {
   "cell_type": "code",
   "execution_count": 14,
   "id": "72f850dc",
   "metadata": {},
   "outputs": [
    {
     "name": "stdout",
     "output_type": "stream",
     "text": [
      "Hi Peter.  Your balance is £70\n"
     ]
    }
   ],
   "source": [
    "my_account.deposit(20)\n",
    "my_account.withdraw(100)\n",
    "my_account.check_balance()"
   ]
  }
 ],
 "metadata": {
  "kernelspec": {
   "display_name": "Python 3",
   "language": "python",
   "name": "python3"
  },
  "language_info": {
   "codemirror_mode": {
    "name": "ipython",
    "version": 3
   },
   "file_extension": ".py",
   "mimetype": "text/x-python",
   "name": "python",
   "nbconvert_exporter": "python",
   "pygments_lexer": "ipython3",
   "version": "3.8.5"
  }
 },
 "nbformat": 4,
 "nbformat_minor": 5
}
